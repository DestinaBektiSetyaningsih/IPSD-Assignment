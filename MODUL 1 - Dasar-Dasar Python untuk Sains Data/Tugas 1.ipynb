{
 "cells": [
  {
   "cell_type": "code",
   "execution_count": null,
   "metadata": {},
   "outputs": [],
   "source": [
    "# <h1 align=\"center\">TUGAS 1  PRAKTIKUM INFRASTRUKTUR & PLATFORM SAINS DATA </h1>\n",
    "<p align=\"center\">Destina Bekti Setyaningsih (2311110018) / Sains Data</p>\n",
    "\n",
    "## 3: Exception Handling dalam Konteks Nyata\n",
    "Buat sebuah program untuk mensimulasikan transaksi ATM. Program harus:\n",
    "1. Meminta pengguna memasukkan PIN (dibatasi 3 kali percobaan).\n",
    "2. Setelah PIN benar, meminta jumlah penarikan.\n",
    "3. Jika saldo kurang dari jumlah yang ditarik, munculkan pesan kesalahan.\n",
    "4. Jika penarikan berhasil, tampilkan saldo akhir.\n",
    "\n",
    "Tujuan: Menguji penggunaan input, while loop, exception handling, dan logika untuk memproses skenario kehidupan nyata."
   ]
  },
  {
   "cell_type": "code",
   "execution_count": 1,
   "metadata": {},
   "outputs": [
    {
     "name": "stdout",
     "output_type": "stream",
     "text": [
      "Welcome to ATM Diamond\n",
      "Menu ATM\n",
      "1. Cek Saldo\n",
      "2. Tarik Tunai\n",
      "3. Setor Tunai\n",
      "4. Exit\n",
      "Saldo Anda: Rp 5000000\n",
      "Menu ATM\n",
      "1. Cek Saldo\n",
      "2. Tarik Tunai\n",
      "3. Setor Tunai\n",
      "4. Exit\n",
      "Penarikan Tunai Berhasil. Saldo Anda Tersisa: RP 4970000\n",
      "Menu ATM\n",
      "1. Cek Saldo\n",
      "2. Tarik Tunai\n",
      "3. Setor Tunai\n",
      "4. Exit\n",
      "Thank You, See You Again!\n"
     ]
    }
   ],
   "source": [
    "\n",
    "PIN_ATM = \"180302\"\n",
    "Saldo = 5000000\n",
    "\n",
    "def Verifikasi_PIN():\n",
    "    input_PIN = input(\"Masukkan Nomer PIN Anda: \")\n",
    "    if input_PIN == PIN_ATM:\n",
    "        return True\n",
    "    else:\n",
    "        print(\"Nomer PIN salah. Try Again!\")\n",
    "        return False\n",
    "\n",
    "def Tampilkan_Menu():\n",
    "    print(\"Menu ATM\")\n",
    "    print(\"1. Cek Saldo\")\n",
    "    print(\"2. Tarik Tunai\")\n",
    "    print(\"3. Setor Tunai\")\n",
    "    print(\"4. Exit\")\n",
    "\n",
    "print(\"Welcome to ATM Diamond\")\n",
    "\n",
    "if Verifikasi_PIN():\n",
    "    while True:\n",
    "        Tampilkan_Menu()\n",
    "        \n",
    "        pilihan = input(\"Pilih Menu (1-4): \")\n",
    "        \n",
    "        if pilihan == \"1\":\n",
    "            print(\"Saldo Anda: Rp\", Saldo)\n",
    "        \n",
    "        elif pilihan == \"2\":\n",
    "            Tarik_Tunai = int(input(\"Masukkan Jumlah Tarik Tunai: \"))\n",
    "            if Tarik_Tunai <= Saldo:\n",
    "                Saldo -= Tarik_Tunai\n",
    "                print(\"Penarikan Tunai Berhasil. Saldo Anda Tersisa: RP\", Saldo)\n",
    "            else: \n",
    "                print(\"Saldo Anda Tidak Mencukupi.\")\n",
    "        \n",
    "        elif pilihan == \"3\":\n",
    "            Setor_Tunai = int(input(\"Masukkan Jumlah Setor Tunai: \"))\n",
    "            Saldo += Setor_Tunai\n",
    "            print(\"Setor Tunai Berhasil. Saldo Anda Tersisa: Rp\", Saldo)\n",
    "        \n",
    "        elif pilihan == \"4\":\n",
    "            print(\"Thank You, See You Again!\")\n",
    "            break\n",
    "        else:\n",
    "            print(\"Options Not Available. Please Return To the Menu\")\n",
    "            "
   ]
  },
  {
   "cell_type": "code",
   "execution_count": null,
   "metadata": {},
   "outputs": [],
   "source": [
    "## 1. Memecahkan Masalah Unik dengan Loop dan If-Else\n",
    "Soal: Buatlah program yang dapat menghasilkan pola berbentuk angka seperti di bawah ini, dengan syarat angka yang ditampilkan adalah hasil dari penjumlahan bilangan prima sebelumnya:\n",
    "Jumlah angka pada setiap baris bertambah 1, dan bilangan yang ditampilkan adalah bilangan prima.\n",
    "\n",
    "Tujuan : Menguji pemahaman tentang loop, bilangan prima, dan bagaimana pola dihasilkan.\n",
    "\n",
    "Interpretasi: program diatas ialah program untuk membuat pola angka. Pola angka tersebut akan berbentuk segitiga dan bentuk tersebut akan berisi sebuah bilanagn prima.\n",
    "cara kerja program yaitu: pengguna akan disuruh memasukkan jumlah baris pada pola tersebut, misal = memasukkan angka 3 maka akan muncul output baris pola tersebut ada 3."
   ]
  },
  {
   "cell_type": "code",
   "execution_count": 15,
   "metadata": {},
   "outputs": [
    {
     "name": "stdout",
     "output_type": "stream",
     "text": [
      "2\n",
      "3 5\n",
      "7 11 13\n",
      "17 19 23 29\n"
     ]
    }
   ],
   "source": [
    "def bilangan_prima(number): #-> untuk menandakan adanya fungsi bilangan prima\n",
    "    \"\"\"Mengecek Sebuah Bilangan Prima.\"\"\"\n",
    "    if number < 2 : #-> jika nomer yang akan dicari kurang dari 2, maka akan mengeluarkan output false/tidak valid.\n",
    "        return False\n",
    "    for i in range(2, int(number**0.5) + 1): #-> proses ngelooping nilai dari 2 sampai akar kuadrat lalu dijumlah 1. Jika sudah berhasil maka akan mereturn True kembali.\n",
    "        if number % i == 0: #-> untuk mengecek nomer apakah habis dibagi oleh angka 1 tersebut.\n",
    "            return False\n",
    "    return True\n",
    "\n",
    "def Membuat_Pola_Prima(rows): #-> menandakan fungsi untuk membuat pola bilangan prima.\n",
    "    \"\"\"Membuat Pola Prima.\"\"\"\n",
    "    count = 0\n",
    "    number = 1 \n",
    "    \n",
    "    for i in range(1, rows + 1): #-> untuk mengulangi nilai pada jumlah rows.\n",
    "        Baris_Pola = []\n",
    "        while len(Baris_Pola) < i: #-> fungsi ini akan terus berjalan sampai jumlah baris pola tersebut mencapaii.\n",
    "            if bilangan_prima(number):\n",
    "                Baris_Pola.append(number) #-> untuk mengisi baris pola\n",
    "            number += 1  \n",
    "        print(\" \".join(map(str, Baris_Pola))) #-> setelah bilangan prima sudah terisi maka akan membentuk sebuah baris pola\n",
    "\n",
    "Baris = int(input('Masukkan Jumlah Baris pada Pola: '))\n",
    "Membuat_Pola_Prima(Baris)"
   ]
  },
  {
   "cell_type": "code",
   "execution_count": null,
   "metadata": {},
   "outputs": [],
   "source": [
    "## Soal 2: Membuat Fungsi dengan Syarat Spesifik\n",
    "soal: Buatlah sebuah fungsi yang menerima dua input berupa list angka. Fungsi ini harus mengembalikan sebuah list baru yang berisi elemen dari dua list input yang memiliki indeks ganjil. \n",
    "List baru tersebut juga harus diurutkan secara menurun berdasarkan nilai elemen.\n",
    "\n",
    "Tujuan: Menguji mahasiswa dalam manipulasi list, penggunaan indeks, serta pemahaman tentang fungsi dan pengurutan."
   ]
  },
  {
   "cell_type": "code",
   "execution_count": 10,
   "metadata": {},
   "outputs": [
    {
     "name": "stdout",
     "output_type": "stream",
     "text": [
      "[22, 12, 6, 3]\n"
     ]
    }
   ],
   "source": [
    "def Menggabungkan_Urutan_Angka(list1, list2):\n",
    "    odd_index_elements = []\n",
    "    \n",
    "    for i in range(1, len(list1), 2):\n",
    "        odd_index_elements.append(list1[i])\n",
    " \n",
    "    for i in range(1, len(list2), 2):\n",
    "        odd_index_elements.append(list2[i])\n",
    "\n",
    "    odd_index_elements.sort(reverse=True)\n",
    "    return odd_index_elements\n",
    "\n",
    "list1 = [18, 3, 2, 22, 17]\n",
    "list2 = [24, 12, 5, 6, 16]\n",
    "result = Menggabungkan_Urutan_Angka(list1, list2)\n",
    "print(result)  "
   ]
  },
  {
   "cell_type": "code",
   "execution_count": null,
   "metadata": {},
   "outputs": [],
   "source": [
    "## Soal 4: Studi Kasus Pengelolaan Data\n",
    "Soal: Anda diberikan file CSV berisi data nilai ujian mahasiswa. Tugas Anda adalah menulis sebuah program yang:\n",
    "1. Membaca file CSV dan menyimpan datanya ke dalam dictionary.\n",
    "2. Menghitung rata-rata nilai tiap mahasiswa.\n",
    "3. Menampilkan mahasiswa dengan nilai tertinggi dan terendah.\n",
    "\n",
    "Tujuan: Menguji kemampuan mahasiswa dalam membaca file, mengelola data dengan dictionary, serta menerapkan logika perhitungan.\n"
   ]
  },
  {
   "cell_type": "code",
   "execution_count": 11,
   "metadata": {},
   "outputs": [
    {
     "name": "stdout",
     "output_type": "stream",
     "text": [
      "Requirement already satisfied: pandas in c:\\users\\lenovo\\anaconda3\\lib\\site-packages (2.0.3)Note: you may need to restart the kernel to use updated packages.\n",
      "\n",
      "Requirement already satisfied: python-dateutil>=2.8.2 in c:\\users\\lenovo\\anaconda3\\lib\\site-packages (from pandas) (2.8.2)\n",
      "Requirement already satisfied: pytz>=2020.1 in c:\\users\\lenovo\\anaconda3\\lib\\site-packages (from pandas) (2023.3.post1)\n",
      "Requirement already satisfied: tzdata>=2022.1 in c:\\users\\lenovo\\anaconda3\\lib\\site-packages (from pandas) (2023.3)\n",
      "Requirement already satisfied: numpy>=1.21.0 in c:\\users\\lenovo\\anaconda3\\lib\\site-packages (from pandas) (1.24.3)\n",
      "Requirement already satisfied: six>=1.5 in c:\\users\\lenovo\\anaconda3\\lib\\site-packages (from python-dateutil>=2.8.2->pandas) (1.16.0)\n"
     ]
    }
   ],
   "source": [
    "pip install pandas"
   ]
  },
  {
   "cell_type": "code",
   "execution_count": 5,
   "metadata": {},
   "outputs": [
    {
     "name": "stdout",
     "output_type": "stream",
     "text": [
      "   Nama Siswa  Nilai\n",
      "0     Siswa_1     59\n",
      "1     Siswa_2     79\n",
      "2     Siswa_3     61\n",
      "3     Siswa_4     74\n",
      "4     Siswa_5     50\n",
      "..        ...    ...\n",
      "95   Siswa_96     59\n",
      "96   Siswa_97     57\n",
      "97   Siswa_98     70\n",
      "98   Siswa_99     66\n",
      "99  Siswa_100     78\n",
      "\n",
      "[100 rows x 2 columns]\n",
      "   Nama Siswa  Nilai\n",
      "0     Siswa_1     59\n",
      "1     Siswa_2     79\n",
      "2     Siswa_3     61\n",
      "3     Siswa_4     74\n",
      "4     Siswa_5     50\n",
      "..        ...    ...\n",
      "95   Siswa_96     59\n",
      "96   Siswa_97     57\n",
      "97   Siswa_98     70\n",
      "98   Siswa_99     66\n",
      "99  Siswa_100     78\n",
      "\n",
      "[100 rows x 2 columns]\n",
      "{'Nama Siswa': ['Siswa_1', 'Siswa_2', 'Siswa_3', 'Siswa_4', 'Siswa_5', 'Siswa_6', 'Siswa_7', 'Siswa_8', 'Siswa_9', 'Siswa_10', 'Siswa_11', 'Siswa_12', 'Siswa_13', 'Siswa_14', 'Siswa_15', 'Siswa_16', 'Siswa_17', 'Siswa_18', 'Siswa_19', 'Siswa_20', 'Siswa_21', 'Siswa_22', 'Siswa_23', 'Siswa_24', 'Siswa_25', 'Siswa_26', 'Siswa_27', 'Siswa_28', 'Siswa_29', 'Siswa_30', 'Siswa_31', 'Siswa_32', 'Siswa_33', 'Siswa_34', 'Siswa_35', 'Siswa_36', 'Siswa_37', 'Siswa_38', 'Siswa_39', 'Siswa_40', 'Siswa_41', 'Siswa_42', 'Siswa_43', 'Siswa_44', 'Siswa_45', 'Siswa_46', 'Siswa_47', 'Siswa_48', 'Siswa_49', 'Siswa_50', 'Siswa_51', 'Siswa_52', 'Siswa_53', 'Siswa_54', 'Siswa_55', 'Siswa_56', 'Siswa_57', 'Siswa_58', 'Siswa_59', 'Siswa_60', 'Siswa_61', 'Siswa_62', 'Siswa_63', 'Siswa_64', 'Siswa_65', 'Siswa_66', 'Siswa_67', 'Siswa_68', 'Siswa_69', 'Siswa_70', 'Siswa_71', 'Siswa_72', 'Siswa_73', 'Siswa_74', 'Siswa_75', 'Siswa_76', 'Siswa_77', 'Siswa_78', 'Siswa_79', 'Siswa_80', 'Siswa_81', 'Siswa_82', 'Siswa_83', 'Siswa_84', 'Siswa_85', 'Siswa_86', 'Siswa_87', 'Siswa_88', 'Siswa_89', 'Siswa_90', 'Siswa_91', 'Siswa_92', 'Siswa_93', 'Siswa_94', 'Siswa_95', 'Siswa_96', 'Siswa_97', 'Siswa_98', 'Siswa_99', 'Siswa_100'], 'Nilai': [59, 79, 61, 74, 50, 70, 100, 84, 78, 61, 92, 60, 78, 87, 57, 73, 53, 54, 97, 52, 84, 89, 52, 90, 52, 64, 96, 100, 84, 60, 85, 63, 64, 68, 67, 52, 79, 55, 88, 95, 78, 66, 71, 64, 51, 77, 90, 83, 99, 56, 68, 88, 62, 98, 58, 92, 60, 55, 93, 60, 53, 79, 75, 83, 58, 50, 75, 61, 57, 98, 85, 57, 53, 55, 54, 64, 51, 65, 68, 51, 99, 89, 92, 56, 96, 79, 76, 71, 98, 89, 92, 65, 50, 84, 67, 59, 57, 70, 66, 78]}\n",
      "\n",
      "Rata-rata nilai siswa: 72.0\n",
      "\n",
      "Nilai tertinggi: 100\n",
      "Nilai terendah: 50\n"
     ]
    }
   ],
   "source": [
    "import pandas as pd\n",
    "\n",
    "df = pd.read_csv(r\"C:/Users/Lenovo/OneDrive/Documents/siswa_nilai (1).csv\")\n",
    "\n",
    "print(df)\n",
    "\n",
    "# Membaca data dari file CSV\n",
    "data = pd.read_csv(\"C:/Users/Lenovo/OneDrive/Documents/siswa_nilai (1).csv\")\n",
    "print(data)\n",
    "\n",
    "# Mengonversi data frame menjadi dictionary\n",
    "data_dict = {kolom: data[kolom].tolist() for kolom in data.columns}\n",
    "print(data_dict)\n",
    "print()\n",
    "\n",
    "# Mengambil data nilai dan nama siswa\n",
    "nilai_siswa = data_dict.get('Nilai', [])\n",
    "nama_siswa = data_dict.get('Nama Siswa', [])\n",
    "\n",
    "if nilai_siswa:\n",
    "    # Menghitung rata-rata nilai\n",
    "    total_nilai = sum(nilai_siswa)\n",
    "    jumlah_siswa = len(nilai_siswa)\n",
    "    rata_rata_nilai = round(total_nilai / jumlah_siswa, 2)\n",
    "    print(f\"Rata-rata nilai siswa: {rata_rata_nilai}\")\n",
    "    \n",
    "    # Menentukan nilai tertinggi dan terendah\n",
    "    nilai_max = max(nilai_siswa)\n",
    "    nilai_min = min(nilai_siswa)\n",
    "    print()\n",
    "    print(f\"Nilai tertinggi: {nilai_max}\")\n",
    "    print(f\"Nilai terendah: {nilai_min}\")\n",
    "else:\n",
    "    print(\"Data nilai tidak tersedia\")\n",
    "\n",
    "\n"
   ]
  },
  {
   "cell_type": "code",
   "execution_count": null,
   "metadata": {},
   "outputs": [],
   "source": [
    "## Soal 5: Kombinasi Logika dan Kreativitas\n",
    "Soal: Buatlah permainan sederhana menggunakan Python, di mana komputer akan memilih sebuah angka secara acak antara 1 hingga 100, dan pengguna harus menebak angka tersebut. \n",
    "Setiap tebakan yang salah akan memberikan petunjuk apakah angka yang ditebak lebih besar atau lebih kecil dari angka sebenarnya. Batasi jumlah percobaan menjadi 5 kali. Setelah permainan selesai, tampilkan apakah pemain menang atau kalah.\n",
    "\n",
    "Tujuan: Menguji logika, kontrol alur program, penggunaan modul `random`, serta kreativitas dalam membangun program interaktif.\n",
    "\n",
    "Interpretasi: Program diatas ialah program untuk membuat game sederhana seperti game menebak angka dari 1 - 100.\n",
    "Cara kerja program yaitu: yang pertama pengguna akan disuruh untuk menebak angka dari 1- 100, apabila angka tersebut salah entah karena terlalu besar atau kecil, \n",
    "maka akan diberi kesempatan sampai 5x untuk menebak angka tersebut hingga benar, jika game tersebut akan menjadi game over. "
   ]
  },
  {
   "cell_type": "code",
   "execution_count": 9,
   "metadata": {},
   "outputs": [
    {
     "name": "stdout",
     "output_type": "stream",
     "text": [
      "Welcome To Game Tebak Angka <3 \n",
      "Masukkan Angka Tebakan Kamu dari 1-100\n",
      "\n",
      "Enjoy The Game! \n",
      "Tebakan Angka Kamu Bernilai Terlalu Kecil.\n",
      "Tersisa 4 kesempatan lagi\n",
      "\n",
      "Tebakan Angka Kamu Bernilai Terlalu Kecil.\n",
      "Tersisa 3 kesempatan lagi\n",
      "\n",
      "Tebakan Angka Kamu Bernilai Terlalu Kecil.\n",
      "Tersisa 2 kesempatan lagi\n",
      "\n",
      "Tebakan Angka Kamu Bernilai Terlalu Kecil.\n",
      "Tersisa 1 kesempatan lagi\n",
      "\n",
      "Tebakan Angka Kamu Bernilai Terlalu Kecil.\n",
      "Tersisa 0 kesempatan lagi\n",
      "\n",
      "Game Over! Kesempatan Kamu Telah Habis.\n",
      "Tebakan Angka yang Benar Adalah 70\n"
     ]
    }
   ],
   "source": [
    "print(\"Welcome To Game Tebak Angka <3 \") #-> print untuk mencetak welcome, memasukkan angka, dan kalimat untuk menikmati game tersebut.\n",
    "print(\"Masukkan Angka Tebakan Kamu dari 1-100\\n\")\n",
    "print(\"Enjoy The Game! \")\n",
    "\n",
    "import random #-> untuk mengimport program fungsi atau kelas random.\n",
    "\n",
    "acak = random.randint(1, 100) #-> untuk menentukan angka random yaitu dari 1 samapi 100.\n",
    "peluang = 5 #-> diberi peluang atau kesempatan samapi 5x.\n",
    "kesempatan = peluang  \n",
    "\n",
    "while kesempatan > 0:\n",
    "    try:\n",
    "        data = int(input(\"Masukkan Tebakan Angka: \")) #-> untuk menginput sebuah data tebakan angka tersebut.\n",
    "        \n",
    "        if data < 1 or data > 100:\n",
    "            print(\"Tebakan Angka harus Berada diantara 1 dan 100. Try Again! \")\n",
    "            continue\n",
    "\n",
    "        if data < acak:\n",
    "            kesempatan -= 1\n",
    "            print(\"Tebakan Angka Kamu Bernilai Terlalu Kecil.\")\n",
    "            print(f'Tersisa {kesempatan} kesempatan lagi\\n')\n",
    "        \n",
    "        elif data > acak:\n",
    "            kesempatan -= 1\n",
    "            print(\"Tebakan Angka Kamu Bernilai Terlalu Besar.\")\n",
    "            print(f'Tersisa {kesempatan} kesempatan lagi\\n')\n",
    "        \n",
    "        else:  \n",
    "            print(\"Congrats! Tebakan Angka Kamu Benar.\")\n",
    "            break\n",
    "            \n",
    "    except ValueError: #-> sebuah tanda peringatan bahwa kamu harus menebak angka dengan benar.\n",
    "        print(\"Diharapkan Memasukkan Angka yang Benar! \")\n",
    "\n",
    "if kesempatan == 0: #-> menandakan bahwa kesempatan kamu sudah habis, dan kamu akan game over or try again.\n",
    "    print(\"Game Over! Kesempatan Kamu Telah Habis.\")\n",
    "    print(f'Tebakan Angka yang Benar Adalah {acak}')"
   ]
  },
  {
   "cell_type": "code",
   "execution_count": null,
   "metadata": {},
   "outputs": [],
   "source": [
    "## Soal 6: Rekursi yang Tidak Biasa\n",
    "Soal: Buat fungsi rekursif yang menerima input bilangan bulat `n` dan menghasilkan urutan bilangan seperti berikut ini:\n",
    "Input: n = 4\n",
    "Output: 1, 1, 2, 6, 24\n",
    "Fungsi ini harus menggunakan konsep rekursi untuk menghitung faktorial setiap angka hingga `n`.\n",
    "\n",
    "Tujuan: Menguji pemahaman rekursi dengan penerapan unik dan sulit dipahami secara instan oleh AI.\n"
   ]
  },
  {
   "cell_type": "code",
   "execution_count": 1,
   "metadata": {},
   "outputs": [
    {
     "name": "stdout",
     "output_type": "stream",
     "text": [
      "{0: 1, 1: 1, 2: 2, 3: 6, 4: 24}\n"
     ]
    }
   ],
   "source": [
    "def faktorial(n):\n",
    "    if n < 0:\n",
    "        raise ValueError(\"Input bilangan bulat non-negatif.\")\n",
    "    elif n == 0 or n == 1:\n",
    "        return 1\n",
    "    else:\n",
    "        hasil = 1\n",
    "        for i in range(2, n + 1):\n",
    "            hasil *= i\n",
    "        return hasil\n",
    "\n",
    "def urutan_faktorial(n):\n",
    "    if n < 0:\n",
    "        raise ValueError(\"Input bilangan bulat non-negatif.\")\n",
    "    \n",
    "    hasil = {}\n",
    "    for i in range(n + 1):\n",
    "        hasil[i] = faktorial(i)\n",
    "    return hasil\n",
    "\n",
    "n = 4  \n",
    "output = urutan_faktorial(n)\n",
    "print(output)"
   ]
  },
  {
   "cell_type": "code",
   "execution_count": null,
   "metadata": {},
   "outputs": [],
   "source": [
    "## Soal 7: Pemrograman dengan Algoritma Greedy\n",
    "Soal: Buatlah program untuk memecahkan masalah \"minimum coin change\". Diberikan jumlah uang dan daftar nilai koin yang tersedia (misalnya, 1, 5, 10, 25). \n",
    "tentukan kombinasi minimum koin yang diperlukan untuk mencapai jumlah uang tersebut. Namun, program Anda harus bisa menangani koin-koin yang nilai dan jumlahnya ditentukan pengguna.\n",
    "\n",
    "Tujuan: Menguji kemampuan mahasiswa dalam memahami dan mengimplementasikan algoritma greedy, serta pemrograman modular.\n"
   ]
  },
  {
   "cell_type": "code",
   "execution_count": 7,
   "metadata": {},
   "outputs": [
    {
     "name": "stdout",
     "output_type": "stream",
     "text": [
      "Combination Coin Invalid!.\n"
     ]
    }
   ],
   "source": [
    "def Minimal_Koin_Kembalian(Jumlah_Uang, Koin):\n",
    "    \n",
    "    Dp = [float('inf')] * (Jumlah_Uang + 2)\n",
    "    Dp[0] = 0  \n",
    "    \n",
    "    Koin_Dipilih = [[] for _ in range(Jumlah_Uang + 2)]\n",
    "\n",
    "    for j in Koin:\n",
    "        for i in range(j, Jumlah_Uang + 2):\n",
    "            if Dp[i - j] + 2 < Dp[i]:\n",
    "                Dp[i] = Dp[i - j] + 2\n",
    "                Koin_Dipilih[i] = Koin_Dipilih[i - j] + [j]\n",
    "\n",
    "    if Dp[Jumlah_Uang] == float('inf'):\n",
    "        return None  \n",
    "\n",
    "    return Dp[Jumlah_Uang], Koin_Dipilih[Jumlah_Uang]\n",
    "\n",
    "Jumlah_Uang = int(input(\"Masukkan Jumlah Uang: \"))\n",
    "Koin_input = input(\"Masukkan Koin yang Tersedia: \")\n",
    "Koin = list(map(int, Koin_input.split()))\n",
    "\n",
    "hasil = Minimal_Koin_Kembalian(Jumlah_Uang, Koin)\n",
    "\n",
    "if hasil:\n",
    "    Jumlah_Koin, Kombinasi_Koin = hasil\n",
    "    print(f\"Jumlah Minimal Koin yang Diinginkan: {Jumlah_Koin}\")\n",
    "    print(f\"Kombinasikan Koin: {Kombinasi_Koin}\")\n",
    "else:\n",
    "    print(\"Combination Coin Invalid!.\")"
   ]
  },
  {
   "cell_type": "code",
   "execution_count": null,
   "metadata": {},
   "outputs": [],
   "source": [
    "## Soal 8: Kombinasi String dan Manipulasi List\n",
    "Soal: Buat sebuah program yang menerima string dari pengguna dan mengonversi string tersebut menjadi sebuah list berisi kata-kata terbalik. Misalnya:\n",
    "Input: \"Saya suka Python\"\n",
    "Output: [\"ayaS\", \"akus\", \"nohtyP\"]\n",
    "\n",
    "Tujuan: Menguji mahasiswa dalam manipulasi string dan list, serta penerapan logika kreatif."
   ]
  },
  {
   "cell_type": "code",
   "execution_count": 2,
   "metadata": {},
   "outputs": [
    {
     "name": "stdout",
     "output_type": "stream",
     "text": [
      "Kata diawal:  Saya suka python\n",
      "Kata setelah dibalik:  nohtyp akus ayaS\n"
     ]
    }
   ],
   "source": [
    "s = 'Saya suka python'\n",
    "print('Kata diawal: ', s)\n",
    "\n",
    "#def reverse(s):\n",
    "#\tstr= ''\n",
    "#\tfor i in s:\n",
    "#\t\tstr = i+str\n",
    "#\treturn str\n",
    "\n",
    "#dengan rekursi\n",
    "#def reverse(s):\n",
    "##\tif len(s)==0:\n",
    "#\t\treturn s\n",
    "#\telse:\n",
    "#\t\treturn reverse(s[1:]) + s[0]\n",
    "\n",
    "#dengan fungsi reverse()\n",
    "#def reverse(s):\n",
    "#\ts = ''.join(reversed(s))\n",
    "#\treturn s\n",
    "\n",
    "#dengan slicing\n",
    "def reverse(s):\n",
    "\treturn s[::-1]\n",
    "\n",
    "print('Kata setelah dibalik: ', reverse(s))"
   ]
  },
  {
   "cell_type": "code",
   "execution_count": null,
   "metadata": {},
   "outputs": [],
   "source": [
    "## Soal 9: Konsep Class dan Object-Oriented Programming\n",
    "Soal: Buat class bernama `Buku` yang memiliki atribut `judul`, `penulis`, dan `tahun_terbit`. Buat method dalam class untuk menampilkan informasi buku, \n",
    "serta method untuk menghitung usia buku berdasarkan tahun saat ini. Buatlah 3 objek dari class `Buku` dan tampilkan informasi serta usia masing-masing buku.\n",
    "\n",
    "Tujuan: Menguji pemahaman OOP, pembuatan class, penggunaan method, serta manipulasi atribut."
   ]
  },
  {
   "cell_type": "code",
   "execution_count": 3,
   "metadata": {},
   "outputs": [
    {
     "name": "stdout",
     "output_type": "stream",
     "text": [
      "Judul Buku: Cantik Itu Luka\n",
      "Penulis Buku: Eka Kurniawan\n",
      "Tahun Terbit: 2002\n",
      "Usia Buku: 22 tahun\n",
      "\n",
      "Judul Buku: Sejarah Dunia Yang Disembunyikan\n",
      "Penulis Buku: Jonathan Black\n",
      "Tahun Terbit: 2015\n",
      "Usia Buku: 9 tahun\n",
      "\n",
      "Judul Buku: Konspirasi Alam Semesta\n",
      "Penulis Buku: Fiersa Besari\n",
      "Tahun Terbit: 2017\n",
      "Usia Buku: 7 tahun\n",
      "\n"
     ]
    }
   ],
   "source": [
    "class Buku:\n",
    "    \n",
    "    def __init__(self, Judul_buku, Penulis_buku, Tahun_terbit):\n",
    "        self.Judul_buku = Judul_buku\n",
    "        self.Penulis_buku = Penulis_buku\n",
    "        self.Tahun_terbit = Tahun_terbit\n",
    "\n",
    "    def Menampilkan_Informasi_Buku(self):\n",
    "        print(f\"Judul Buku: {self.Judul_buku}\")\n",
    "        print(f\"Penulis Buku: {self.Penulis_buku}\")\n",
    "        print(f\"Tahun Terbit: {self.Tahun_terbit}\")\n",
    "\n",
    "    def Menghitung_Usia(self, Sekarang_tahun):\n",
    "        return Sekarang_tahun - self.Tahun_terbit\n",
    "    \n",
    "BukuA = Buku(\"Cantik Itu Luka\", \"Eka Kurniawan\", 2002)\n",
    "BukuB = Buku(\"Sejarah Dunia Yang Disembunyikan\", \"Jonathan Black\", 2015)\n",
    "BukuC = Buku(\"Konspirasi Alam Semesta\", \"Fiersa Besari\", 2017)\n",
    "\n",
    "Sekarang_tahun = 2024\n",
    "\n",
    "for Buku in [BukuA, BukuB, BukuC]:\n",
    "    Buku.Menampilkan_Informasi_Buku()\n",
    "    Usia_buku = Buku.Menghitung_Usia(Sekarang_tahun)\n",
    "    print(f\"Usia Buku: {Usia_buku} tahun\\n\")\n"
   ]
  },
  {
   "cell_type": "code",
   "execution_count": null,
   "metadata": {},
   "outputs": [],
   "source": [
    "## Soal 10: Algoritma dengan Persyaratan Logika Khusus\n",
    "Soal: Buatlah program yang mengimplementasikan algoritma pencarian biner, namun dengan modifikasi: algoritma harus bisa mencari nilai di list yang hanya berisi angka genap, \n",
    "dan jika nilai yang dicari adalah angka ganjil, program harus menampilkan pesan bahwa nilai tersebut tidak bisa ditemukan.\n",
    "\n",
    "Tujuan: Menguji pemahaman algoritma pencarian serta pengkondisian logika yang lebih kompleks.\n"
   ]
  },
  {
   "cell_type": "code",
   "execution_count": 4,
   "metadata": {},
   "outputs": [
    {
     "name": "stdout",
     "output_type": "stream",
     "text": [
      "2 Adalah Bilangan Genap\n"
     ]
    }
   ],
   "source": [
    "angka = int(input(\"Masukkan Angka: \")) \n",
    "if (angka % 2) == 0:\n",
    "    \n",
    "    print(angka, \"Adalah Bilangan Genap\")\n",
    "else:\n",
    "    print(angka, \"Bilangan Ganjil Not Found\")"
   ]
  }
 ],
 "metadata": {
  "kernelspec": {
   "display_name": "Python 3",
   "language": "python",
   "name": "python3"
  },
  "language_info": {
   "codemirror_mode": {
    "name": "ipython",
    "version": 3
   },
   "file_extension": ".py",
   "mimetype": "text/x-python",
   "name": "python",
   "nbconvert_exporter": "python",
   "pygments_lexer": "ipython3",
   "version": "3.11.5"
  }
 },
 "nbformat": 4,
 "nbformat_minor": 2
}
