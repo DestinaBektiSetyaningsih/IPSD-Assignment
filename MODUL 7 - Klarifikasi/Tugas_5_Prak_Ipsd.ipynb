{
  "nbformat": 4,
  "nbformat_minor": 0,
  "metadata": {
    "colab": {
      "provenance": []
    },
    "kernelspec": {
      "name": "python3",
      "display_name": "Python 3"
    },
    "language_info": {
      "name": "python"
    }
  },
  "cells": [
    {
      "cell_type": "markdown",
      "source": [
        "1. Lakukan EDA dan Pre-Processing sesuai dengan tujuan analisis dan kondisi data!\n",
        "2. Hasil dari EDA dan pre-processing dapat diinterpretasikan\n",
        "3. Lakukan pemodelan menggunakan algoritma klasifikasi KNN, Decision Tree dan Naive Bayes\n",
        "4. Gunakan matriks evaluasi accuracy score, recall dan precision. buatlah kesimpulan algoritma mana yang paling baik."
      ],
      "metadata": {
        "id": "c4JH18GxJktw"
      }
    },
    {
      "cell_type": "code",
      "source": [
        "from google.colab import drive\n",
        "drive.mount('/content/drive')"
      ],
      "metadata": {
        "id": "-khVtD0ZJ1h7",
        "colab": {
          "base_uri": "https://localhost:8080/"
        },
        "outputId": "ea34901e-a67d-41b5-f76e-39497257b1e1"
      },
      "execution_count": null,
      "outputs": [
        {
          "output_type": "stream",
          "name": "stdout",
          "text": [
            "Drive already mounted at /content/drive; to attempt to forcibly remount, call drive.mount(\"/content/drive\", force_remount=True).\n"
          ]
        }
      ]
    },
    {
      "cell_type": "code",
      "source": [
        "import pandas as pd\n",
        "import seaborn as sns\n",
        "import matplotlib.pyplot as plt\n",
        "import numpy as np"
      ],
      "metadata": {
        "id": "MHFYfCJGLA6R"
      },
      "execution_count": null,
      "outputs": []
    },
    {
      "cell_type": "markdown",
      "source": [
        "#### 1. Lakukan EDA dan Pre-Processing sesuai dengan tujuan analisis dan kondisi data!"
      ],
      "metadata": {
        "id": "Su7ZMZR6LdRv"
      }
    },
    {
      "cell_type": "code",
      "source": [
        "data = pd.read_csv('/content/Training.csv')\n",
        "data.head()"
      ],
      "metadata": {
        "id": "UKD9D-0FLmeE",
        "colab": {
          "base_uri": "https://localhost:8080/",
          "height": 206
        },
        "outputId": "e0218708-8ba8-4e15-dc73-e75abe55b3d6"
      },
      "execution_count": null,
      "outputs": [
        {
          "output_type": "execute_result",
          "data": {
            "text/plain": [
              "   Pregnancies  Glucose  BloodPressure  SkinThickness  Insulin   BMI  \\\n",
              "0            6      148             72             35        0  33.6   \n",
              "1            1       85             66             29        0  26.6   \n",
              "2            8      183             64              0        0  23.3   \n",
              "3            1       89             66             23       94  28.1   \n",
              "4            0      137             40             35      168  43.1   \n",
              "\n",
              "   DiabetesPedigreeFunction  Age  Outcome  \n",
              "0                     0.627   50        1  \n",
              "1                     0.351   31        0  \n",
              "2                     0.672   32        1  \n",
              "3                     0.167   21        0  \n",
              "4                     2.288   33        1  "
            ],
            "text/html": [
              "\n",
              "  <div id=\"df-5072c723-7e6c-4214-bd33-2718bf13be42\" class=\"colab-df-container\">\n",
              "    <div>\n",
              "<style scoped>\n",
              "    .dataframe tbody tr th:only-of-type {\n",
              "        vertical-align: middle;\n",
              "    }\n",
              "\n",
              "    .dataframe tbody tr th {\n",
              "        vertical-align: top;\n",
              "    }\n",
              "\n",
              "    .dataframe thead th {\n",
              "        text-align: right;\n",
              "    }\n",
              "</style>\n",
              "<table border=\"1\" class=\"dataframe\">\n",
              "  <thead>\n",
              "    <tr style=\"text-align: right;\">\n",
              "      <th></th>\n",
              "      <th>Pregnancies</th>\n",
              "      <th>Glucose</th>\n",
              "      <th>BloodPressure</th>\n",
              "      <th>SkinThickness</th>\n",
              "      <th>Insulin</th>\n",
              "      <th>BMI</th>\n",
              "      <th>DiabetesPedigreeFunction</th>\n",
              "      <th>Age</th>\n",
              "      <th>Outcome</th>\n",
              "    </tr>\n",
              "  </thead>\n",
              "  <tbody>\n",
              "    <tr>\n",
              "      <th>0</th>\n",
              "      <td>6</td>\n",
              "      <td>148</td>\n",
              "      <td>72</td>\n",
              "      <td>35</td>\n",
              "      <td>0</td>\n",
              "      <td>33.6</td>\n",
              "      <td>0.627</td>\n",
              "      <td>50</td>\n",
              "      <td>1</td>\n",
              "    </tr>\n",
              "    <tr>\n",
              "      <th>1</th>\n",
              "      <td>1</td>\n",
              "      <td>85</td>\n",
              "      <td>66</td>\n",
              "      <td>29</td>\n",
              "      <td>0</td>\n",
              "      <td>26.6</td>\n",
              "      <td>0.351</td>\n",
              "      <td>31</td>\n",
              "      <td>0</td>\n",
              "    </tr>\n",
              "    <tr>\n",
              "      <th>2</th>\n",
              "      <td>8</td>\n",
              "      <td>183</td>\n",
              "      <td>64</td>\n",
              "      <td>0</td>\n",
              "      <td>0</td>\n",
              "      <td>23.3</td>\n",
              "      <td>0.672</td>\n",
              "      <td>32</td>\n",
              "      <td>1</td>\n",
              "    </tr>\n",
              "    <tr>\n",
              "      <th>3</th>\n",
              "      <td>1</td>\n",
              "      <td>89</td>\n",
              "      <td>66</td>\n",
              "      <td>23</td>\n",
              "      <td>94</td>\n",
              "      <td>28.1</td>\n",
              "      <td>0.167</td>\n",
              "      <td>21</td>\n",
              "      <td>0</td>\n",
              "    </tr>\n",
              "    <tr>\n",
              "      <th>4</th>\n",
              "      <td>0</td>\n",
              "      <td>137</td>\n",
              "      <td>40</td>\n",
              "      <td>35</td>\n",
              "      <td>168</td>\n",
              "      <td>43.1</td>\n",
              "      <td>2.288</td>\n",
              "      <td>33</td>\n",
              "      <td>1</td>\n",
              "    </tr>\n",
              "  </tbody>\n",
              "</table>\n",
              "</div>\n",
              "    <div class=\"colab-df-buttons\">\n",
              "\n",
              "  <div class=\"colab-df-container\">\n",
              "    <button class=\"colab-df-convert\" onclick=\"convertToInteractive('df-5072c723-7e6c-4214-bd33-2718bf13be42')\"\n",
              "            title=\"Convert this dataframe to an interactive table.\"\n",
              "            style=\"display:none;\">\n",
              "\n",
              "  <svg xmlns=\"http://www.w3.org/2000/svg\" height=\"24px\" viewBox=\"0 -960 960 960\">\n",
              "    <path d=\"M120-120v-720h720v720H120Zm60-500h600v-160H180v160Zm220 220h160v-160H400v160Zm0 220h160v-160H400v160ZM180-400h160v-160H180v160Zm440 0h160v-160H620v160ZM180-180h160v-160H180v160Zm440 0h160v-160H620v160Z\"/>\n",
              "  </svg>\n",
              "    </button>\n",
              "\n",
              "  <style>\n",
              "    .colab-df-container {\n",
              "      display:flex;\n",
              "      gap: 12px;\n",
              "    }\n",
              "\n",
              "    .colab-df-convert {\n",
              "      background-color: #E8F0FE;\n",
              "      border: none;\n",
              "      border-radius: 50%;\n",
              "      cursor: pointer;\n",
              "      display: none;\n",
              "      fill: #1967D2;\n",
              "      height: 32px;\n",
              "      padding: 0 0 0 0;\n",
              "      width: 32px;\n",
              "    }\n",
              "\n",
              "    .colab-df-convert:hover {\n",
              "      background-color: #E2EBFA;\n",
              "      box-shadow: 0px 1px 2px rgba(60, 64, 67, 0.3), 0px 1px 3px 1px rgba(60, 64, 67, 0.15);\n",
              "      fill: #174EA6;\n",
              "    }\n",
              "\n",
              "    .colab-df-buttons div {\n",
              "      margin-bottom: 4px;\n",
              "    }\n",
              "\n",
              "    [theme=dark] .colab-df-convert {\n",
              "      background-color: #3B4455;\n",
              "      fill: #D2E3FC;\n",
              "    }\n",
              "\n",
              "    [theme=dark] .colab-df-convert:hover {\n",
              "      background-color: #434B5C;\n",
              "      box-shadow: 0px 1px 3px 1px rgba(0, 0, 0, 0.15);\n",
              "      filter: drop-shadow(0px 1px 2px rgba(0, 0, 0, 0.3));\n",
              "      fill: #FFFFFF;\n",
              "    }\n",
              "  </style>\n",
              "\n",
              "    <script>\n",
              "      const buttonEl =\n",
              "        document.querySelector('#df-5072c723-7e6c-4214-bd33-2718bf13be42 button.colab-df-convert');\n",
              "      buttonEl.style.display =\n",
              "        google.colab.kernel.accessAllowed ? 'block' : 'none';\n",
              "\n",
              "      async function convertToInteractive(key) {\n",
              "        const element = document.querySelector('#df-5072c723-7e6c-4214-bd33-2718bf13be42');\n",
              "        const dataTable =\n",
              "          await google.colab.kernel.invokeFunction('convertToInteractive',\n",
              "                                                    [key], {});\n",
              "        if (!dataTable) return;\n",
              "\n",
              "        const docLinkHtml = 'Like what you see? Visit the ' +\n",
              "          '<a target=\"_blank\" href=https://colab.research.google.com/notebooks/data_table.ipynb>data table notebook</a>'\n",
              "          + ' to learn more about interactive tables.';\n",
              "        element.innerHTML = '';\n",
              "        dataTable['output_type'] = 'display_data';\n",
              "        await google.colab.output.renderOutput(dataTable, element);\n",
              "        const docLink = document.createElement('div');\n",
              "        docLink.innerHTML = docLinkHtml;\n",
              "        element.appendChild(docLink);\n",
              "      }\n",
              "    </script>\n",
              "  </div>\n",
              "\n",
              "\n",
              "<div id=\"df-a28f6847-60df-42cf-96a5-b773e3445668\">\n",
              "  <button class=\"colab-df-quickchart\" onclick=\"quickchart('df-a28f6847-60df-42cf-96a5-b773e3445668')\"\n",
              "            title=\"Suggest charts\"\n",
              "            style=\"display:none;\">\n",
              "\n",
              "<svg xmlns=\"http://www.w3.org/2000/svg\" height=\"24px\"viewBox=\"0 0 24 24\"\n",
              "     width=\"24px\">\n",
              "    <g>\n",
              "        <path d=\"M19 3H5c-1.1 0-2 .9-2 2v14c0 1.1.9 2 2 2h14c1.1 0 2-.9 2-2V5c0-1.1-.9-2-2-2zM9 17H7v-7h2v7zm4 0h-2V7h2v10zm4 0h-2v-4h2v4z\"/>\n",
              "    </g>\n",
              "</svg>\n",
              "  </button>\n",
              "\n",
              "<style>\n",
              "  .colab-df-quickchart {\n",
              "      --bg-color: #E8F0FE;\n",
              "      --fill-color: #1967D2;\n",
              "      --hover-bg-color: #E2EBFA;\n",
              "      --hover-fill-color: #174EA6;\n",
              "      --disabled-fill-color: #AAA;\n",
              "      --disabled-bg-color: #DDD;\n",
              "  }\n",
              "\n",
              "  [theme=dark] .colab-df-quickchart {\n",
              "      --bg-color: #3B4455;\n",
              "      --fill-color: #D2E3FC;\n",
              "      --hover-bg-color: #434B5C;\n",
              "      --hover-fill-color: #FFFFFF;\n",
              "      --disabled-bg-color: #3B4455;\n",
              "      --disabled-fill-color: #666;\n",
              "  }\n",
              "\n",
              "  .colab-df-quickchart {\n",
              "    background-color: var(--bg-color);\n",
              "    border: none;\n",
              "    border-radius: 50%;\n",
              "    cursor: pointer;\n",
              "    display: none;\n",
              "    fill: var(--fill-color);\n",
              "    height: 32px;\n",
              "    padding: 0;\n",
              "    width: 32px;\n",
              "  }\n",
              "\n",
              "  .colab-df-quickchart:hover {\n",
              "    background-color: var(--hover-bg-color);\n",
              "    box-shadow: 0 1px 2px rgba(60, 64, 67, 0.3), 0 1px 3px 1px rgba(60, 64, 67, 0.15);\n",
              "    fill: var(--button-hover-fill-color);\n",
              "  }\n",
              "\n",
              "  .colab-df-quickchart-complete:disabled,\n",
              "  .colab-df-quickchart-complete:disabled:hover {\n",
              "    background-color: var(--disabled-bg-color);\n",
              "    fill: var(--disabled-fill-color);\n",
              "    box-shadow: none;\n",
              "  }\n",
              "\n",
              "  .colab-df-spinner {\n",
              "    border: 2px solid var(--fill-color);\n",
              "    border-color: transparent;\n",
              "    border-bottom-color: var(--fill-color);\n",
              "    animation:\n",
              "      spin 1s steps(1) infinite;\n",
              "  }\n",
              "\n",
              "  @keyframes spin {\n",
              "    0% {\n",
              "      border-color: transparent;\n",
              "      border-bottom-color: var(--fill-color);\n",
              "      border-left-color: var(--fill-color);\n",
              "    }\n",
              "    20% {\n",
              "      border-color: transparent;\n",
              "      border-left-color: var(--fill-color);\n",
              "      border-top-color: var(--fill-color);\n",
              "    }\n",
              "    30% {\n",
              "      border-color: transparent;\n",
              "      border-left-color: var(--fill-color);\n",
              "      border-top-color: var(--fill-color);\n",
              "      border-right-color: var(--fill-color);\n",
              "    }\n",
              "    40% {\n",
              "      border-color: transparent;\n",
              "      border-right-color: var(--fill-color);\n",
              "      border-top-color: var(--fill-color);\n",
              "    }\n",
              "    60% {\n",
              "      border-color: transparent;\n",
              "      border-right-color: var(--fill-color);\n",
              "    }\n",
              "    80% {\n",
              "      border-color: transparent;\n",
              "      border-right-color: var(--fill-color);\n",
              "      border-bottom-color: var(--fill-color);\n",
              "    }\n",
              "    90% {\n",
              "      border-color: transparent;\n",
              "      border-bottom-color: var(--fill-color);\n",
              "    }\n",
              "  }\n",
              "</style>\n",
              "\n",
              "  <script>\n",
              "    async function quickchart(key) {\n",
              "      const quickchartButtonEl =\n",
              "        document.querySelector('#' + key + ' button');\n",
              "      quickchartButtonEl.disabled = true;  // To prevent multiple clicks.\n",
              "      quickchartButtonEl.classList.add('colab-df-spinner');\n",
              "      try {\n",
              "        const charts = await google.colab.kernel.invokeFunction(\n",
              "            'suggestCharts', [key], {});\n",
              "      } catch (error) {\n",
              "        console.error('Error during call to suggestCharts:', error);\n",
              "      }\n",
              "      quickchartButtonEl.classList.remove('colab-df-spinner');\n",
              "      quickchartButtonEl.classList.add('colab-df-quickchart-complete');\n",
              "    }\n",
              "    (() => {\n",
              "      let quickchartButtonEl =\n",
              "        document.querySelector('#df-a28f6847-60df-42cf-96a5-b773e3445668 button');\n",
              "      quickchartButtonEl.style.display =\n",
              "        google.colab.kernel.accessAllowed ? 'block' : 'none';\n",
              "    })();\n",
              "  </script>\n",
              "</div>\n",
              "\n",
              "    </div>\n",
              "  </div>\n"
            ],
            "application/vnd.google.colaboratory.intrinsic+json": {
              "type": "dataframe",
              "variable_name": "data",
              "summary": "{\n  \"name\": \"data\",\n  \"rows\": 2460,\n  \"fields\": [\n    {\n      \"column\": \"Pregnancies\",\n      \"properties\": {\n        \"dtype\": \"number\",\n        \"std\": 3,\n        \"min\": 0,\n        \"max\": 17,\n        \"num_unique_values\": 17,\n        \"samples\": [\n          6,\n          1,\n          3\n        ],\n        \"semantic_type\": \"\",\n        \"description\": \"\"\n      }\n    },\n    {\n      \"column\": \"Glucose\",\n      \"properties\": {\n        \"dtype\": \"number\",\n        \"std\": 31,\n        \"min\": 0,\n        \"max\": 197,\n        \"num_unique_values\": 123,\n        \"samples\": [\n          103,\n          101,\n          150\n        ],\n        \"semantic_type\": \"\",\n        \"description\": \"\"\n      }\n    },\n    {\n      \"column\": \"BloodPressure\",\n      \"properties\": {\n        \"dtype\": \"number\",\n        \"std\": 19,\n        \"min\": 0,\n        \"max\": 122,\n        \"num_unique_values\": 43,\n        \"samples\": [\n          104,\n          56,\n          62\n        ],\n        \"semantic_type\": \"\",\n        \"description\": \"\"\n      }\n    },\n    {\n      \"column\": \"SkinThickness\",\n      \"properties\": {\n        \"dtype\": \"number\",\n        \"std\": 15,\n        \"min\": 0,\n        \"max\": 63,\n        \"num_unique_values\": 50,\n        \"samples\": [\n          15,\n          44,\n          22\n        ],\n        \"semantic_type\": \"\",\n        \"description\": \"\"\n      }\n    },\n    {\n      \"column\": \"Insulin\",\n      \"properties\": {\n        \"dtype\": \"number\",\n        \"std\": 116,\n        \"min\": 0,\n        \"max\": 846,\n        \"num_unique_values\": 144,\n        \"samples\": [\n          108,\n          70,\n          32\n        ],\n        \"semantic_type\": \"\",\n        \"description\": \"\"\n      }\n    },\n    {\n      \"column\": \"BMI\",\n      \"properties\": {\n        \"dtype\": \"number\",\n        \"std\": 7.802568515589964,\n        \"min\": 0.0,\n        \"max\": 67.1,\n        \"num_unique_values\": 216,\n        \"samples\": [\n          45.7,\n          21.2,\n          23.9\n        ],\n        \"semantic_type\": \"\",\n        \"description\": \"\"\n      }\n    },\n    {\n      \"column\": \"DiabetesPedigreeFunction\",\n      \"properties\": {\n        \"dtype\": \"number\",\n        \"std\": 0.3639166121073396,\n        \"min\": 0.078,\n        \"max\": 2.42,\n        \"num_unique_values\": 365,\n        \"samples\": [\n          0.742,\n          0.512,\n          0.484\n        ],\n        \"semantic_type\": \"\",\n        \"description\": \"\"\n      }\n    },\n    {\n      \"column\": \"Age\",\n      \"properties\": {\n        \"dtype\": \"number\",\n        \"std\": 11,\n        \"min\": 21,\n        \"max\": 81,\n        \"num_unique_values\": 49,\n        \"samples\": [\n          51,\n          63,\n          72\n        ],\n        \"semantic_type\": \"\",\n        \"description\": \"\"\n      }\n    },\n    {\n      \"column\": \"Outcome\",\n      \"properties\": {\n        \"dtype\": \"number\",\n        \"std\": 0,\n        \"min\": 0,\n        \"max\": 1,\n        \"num_unique_values\": 2,\n        \"samples\": [\n          0,\n          1\n        ],\n        \"semantic_type\": \"\",\n        \"description\": \"\"\n      }\n    }\n  ]\n}"
            }
          },
          "metadata": {},
          "execution_count": 87
        }
      ]
    },
    {
      "cell_type": "code",
      "source": [
        "data.shape"
      ],
      "metadata": {
        "id": "ZEmWWxruLylh",
        "colab": {
          "base_uri": "https://localhost:8080/"
        },
        "outputId": "ad7f913e-0513-4de1-ccd1-2e8b1458a2d1"
      },
      "execution_count": null,
      "outputs": [
        {
          "output_type": "execute_result",
          "data": {
            "text/plain": [
              "(2460, 9)"
            ]
          },
          "metadata": {},
          "execution_count": 88
        }
      ]
    },
    {
      "cell_type": "code",
      "source": [
        "data.info()"
      ],
      "metadata": {
        "id": "zDciAvccL8Sj",
        "colab": {
          "base_uri": "https://localhost:8080/"
        },
        "outputId": "4fc5e91e-2aeb-49de-f259-7d5bb7e22edc"
      },
      "execution_count": null,
      "outputs": [
        {
          "output_type": "stream",
          "name": "stdout",
          "text": [
            "<class 'pandas.core.frame.DataFrame'>\n",
            "RangeIndex: 2460 entries, 0 to 2459\n",
            "Data columns (total 9 columns):\n",
            " #   Column                    Non-Null Count  Dtype  \n",
            "---  ------                    --------------  -----  \n",
            " 0   Pregnancies               2460 non-null   int64  \n",
            " 1   Glucose                   2460 non-null   int64  \n",
            " 2   BloodPressure             2460 non-null   int64  \n",
            " 3   SkinThickness             2460 non-null   int64  \n",
            " 4   Insulin                   2460 non-null   int64  \n",
            " 5   BMI                       2460 non-null   float64\n",
            " 6   DiabetesPedigreeFunction  2460 non-null   float64\n",
            " 7   Age                       2460 non-null   int64  \n",
            " 8   Outcome                   2460 non-null   int64  \n",
            "dtypes: float64(2), int64(7)\n",
            "memory usage: 173.1 KB\n"
          ]
        }
      ]
    },
    {
      "cell_type": "code",
      "source": [
        "data.isnull().sum() #-> untuk mengecek missing value"
      ],
      "metadata": {
        "id": "Dxg4kAesMCM6",
        "colab": {
          "base_uri": "https://localhost:8080/",
          "height": 366
        },
        "outputId": "30d9de06-93d2-4b44-bd0e-9d53e84436a9"
      },
      "execution_count": null,
      "outputs": [
        {
          "output_type": "execute_result",
          "data": {
            "text/plain": [
              "Pregnancies                 0\n",
              "Glucose                     0\n",
              "BloodPressure               0\n",
              "SkinThickness               0\n",
              "Insulin                     0\n",
              "BMI                         0\n",
              "DiabetesPedigreeFunction    0\n",
              "Age                         0\n",
              "Outcome                     0\n",
              "dtype: int64"
            ],
            "text/html": [
              "<div>\n",
              "<style scoped>\n",
              "    .dataframe tbody tr th:only-of-type {\n",
              "        vertical-align: middle;\n",
              "    }\n",
              "\n",
              "    .dataframe tbody tr th {\n",
              "        vertical-align: top;\n",
              "    }\n",
              "\n",
              "    .dataframe thead th {\n",
              "        text-align: right;\n",
              "    }\n",
              "</style>\n",
              "<table border=\"1\" class=\"dataframe\">\n",
              "  <thead>\n",
              "    <tr style=\"text-align: right;\">\n",
              "      <th></th>\n",
              "      <th>0</th>\n",
              "    </tr>\n",
              "  </thead>\n",
              "  <tbody>\n",
              "    <tr>\n",
              "      <th>Pregnancies</th>\n",
              "      <td>0</td>\n",
              "    </tr>\n",
              "    <tr>\n",
              "      <th>Glucose</th>\n",
              "      <td>0</td>\n",
              "    </tr>\n",
              "    <tr>\n",
              "      <th>BloodPressure</th>\n",
              "      <td>0</td>\n",
              "    </tr>\n",
              "    <tr>\n",
              "      <th>SkinThickness</th>\n",
              "      <td>0</td>\n",
              "    </tr>\n",
              "    <tr>\n",
              "      <th>Insulin</th>\n",
              "      <td>0</td>\n",
              "    </tr>\n",
              "    <tr>\n",
              "      <th>BMI</th>\n",
              "      <td>0</td>\n",
              "    </tr>\n",
              "    <tr>\n",
              "      <th>DiabetesPedigreeFunction</th>\n",
              "      <td>0</td>\n",
              "    </tr>\n",
              "    <tr>\n",
              "      <th>Age</th>\n",
              "      <td>0</td>\n",
              "    </tr>\n",
              "    <tr>\n",
              "      <th>Outcome</th>\n",
              "      <td>0</td>\n",
              "    </tr>\n",
              "  </tbody>\n",
              "</table>\n",
              "</div><br><label><b>dtype:</b> int64</label>"
            ]
          },
          "metadata": {},
          "execution_count": 90
        }
      ]
    },
    {
      "cell_type": "code",
      "source": [
        "data.describe()"
      ],
      "metadata": {
        "id": "PKtYHP-SMKHk",
        "colab": {
          "base_uri": "https://localhost:8080/",
          "height": 300
        },
        "outputId": "aa21ba0e-f728-4d81-f5d6-4221f7b5f8fa"
      },
      "execution_count": null,
      "outputs": [
        {
          "output_type": "execute_result",
          "data": {
            "text/plain": [
              "       Pregnancies      Glucose  BloodPressure  SkinThickness      Insulin  \\\n",
              "count  2460.000000  2460.000000    2460.000000    2460.000000  2460.000000   \n",
              "mean      3.817480   121.602033      68.915041      20.531301    80.119919   \n",
              "std       3.296458    31.789270      19.082655      15.716901   116.765807   \n",
              "min       0.000000     0.000000       0.000000       0.000000     0.000000   \n",
              "25%       1.000000   100.000000      64.000000       0.000000     0.000000   \n",
              "50%       3.000000   117.000000      70.000000      23.000000    36.000000   \n",
              "75%       6.000000   142.000000      80.000000      33.000000   129.000000   \n",
              "max      17.000000   197.000000     122.000000      63.000000   846.000000   \n",
              "\n",
              "               BMI  DiabetesPedigreeFunction          Age      Outcome  \n",
              "count  2460.000000               2460.000000  2460.000000  2460.000000  \n",
              "mean     31.990447                  0.491440    32.821951     0.390244  \n",
              "std       7.802569                  0.363917    11.251208     0.487904  \n",
              "min       0.000000                  0.078000    21.000000     0.000000  \n",
              "25%      27.100000                  0.251750    24.000000     0.000000  \n",
              "50%      32.100000                  0.381000    29.000000     0.000000  \n",
              "75%      36.500000                  0.647000    39.000000     1.000000  \n",
              "max      67.100000                  2.420000    81.000000     1.000000  "
            ],
            "text/html": [
              "\n",
              "  <div id=\"df-3dd8859c-9739-4ad2-967d-4df5c4e5ee64\" class=\"colab-df-container\">\n",
              "    <div>\n",
              "<style scoped>\n",
              "    .dataframe tbody tr th:only-of-type {\n",
              "        vertical-align: middle;\n",
              "    }\n",
              "\n",
              "    .dataframe tbody tr th {\n",
              "        vertical-align: top;\n",
              "    }\n",
              "\n",
              "    .dataframe thead th {\n",
              "        text-align: right;\n",
              "    }\n",
              "</style>\n",
              "<table border=\"1\" class=\"dataframe\">\n",
              "  <thead>\n",
              "    <tr style=\"text-align: right;\">\n",
              "      <th></th>\n",
              "      <th>Pregnancies</th>\n",
              "      <th>Glucose</th>\n",
              "      <th>BloodPressure</th>\n",
              "      <th>SkinThickness</th>\n",
              "      <th>Insulin</th>\n",
              "      <th>BMI</th>\n",
              "      <th>DiabetesPedigreeFunction</th>\n",
              "      <th>Age</th>\n",
              "      <th>Outcome</th>\n",
              "    </tr>\n",
              "  </thead>\n",
              "  <tbody>\n",
              "    <tr>\n",
              "      <th>count</th>\n",
              "      <td>2460.000000</td>\n",
              "      <td>2460.000000</td>\n",
              "      <td>2460.000000</td>\n",
              "      <td>2460.000000</td>\n",
              "      <td>2460.000000</td>\n",
              "      <td>2460.000000</td>\n",
              "      <td>2460.000000</td>\n",
              "      <td>2460.000000</td>\n",
              "      <td>2460.000000</td>\n",
              "    </tr>\n",
              "    <tr>\n",
              "      <th>mean</th>\n",
              "      <td>3.817480</td>\n",
              "      <td>121.602033</td>\n",
              "      <td>68.915041</td>\n",
              "      <td>20.531301</td>\n",
              "      <td>80.119919</td>\n",
              "      <td>31.990447</td>\n",
              "      <td>0.491440</td>\n",
              "      <td>32.821951</td>\n",
              "      <td>0.390244</td>\n",
              "    </tr>\n",
              "    <tr>\n",
              "      <th>std</th>\n",
              "      <td>3.296458</td>\n",
              "      <td>31.789270</td>\n",
              "      <td>19.082655</td>\n",
              "      <td>15.716901</td>\n",
              "      <td>116.765807</td>\n",
              "      <td>7.802569</td>\n",
              "      <td>0.363917</td>\n",
              "      <td>11.251208</td>\n",
              "      <td>0.487904</td>\n",
              "    </tr>\n",
              "    <tr>\n",
              "      <th>min</th>\n",
              "      <td>0.000000</td>\n",
              "      <td>0.000000</td>\n",
              "      <td>0.000000</td>\n",
              "      <td>0.000000</td>\n",
              "      <td>0.000000</td>\n",
              "      <td>0.000000</td>\n",
              "      <td>0.078000</td>\n",
              "      <td>21.000000</td>\n",
              "      <td>0.000000</td>\n",
              "    </tr>\n",
              "    <tr>\n",
              "      <th>25%</th>\n",
              "      <td>1.000000</td>\n",
              "      <td>100.000000</td>\n",
              "      <td>64.000000</td>\n",
              "      <td>0.000000</td>\n",
              "      <td>0.000000</td>\n",
              "      <td>27.100000</td>\n",
              "      <td>0.251750</td>\n",
              "      <td>24.000000</td>\n",
              "      <td>0.000000</td>\n",
              "    </tr>\n",
              "    <tr>\n",
              "      <th>50%</th>\n",
              "      <td>3.000000</td>\n",
              "      <td>117.000000</td>\n",
              "      <td>70.000000</td>\n",
              "      <td>23.000000</td>\n",
              "      <td>36.000000</td>\n",
              "      <td>32.100000</td>\n",
              "      <td>0.381000</td>\n",
              "      <td>29.000000</td>\n",
              "      <td>0.000000</td>\n",
              "    </tr>\n",
              "    <tr>\n",
              "      <th>75%</th>\n",
              "      <td>6.000000</td>\n",
              "      <td>142.000000</td>\n",
              "      <td>80.000000</td>\n",
              "      <td>33.000000</td>\n",
              "      <td>129.000000</td>\n",
              "      <td>36.500000</td>\n",
              "      <td>0.647000</td>\n",
              "      <td>39.000000</td>\n",
              "      <td>1.000000</td>\n",
              "    </tr>\n",
              "    <tr>\n",
              "      <th>max</th>\n",
              "      <td>17.000000</td>\n",
              "      <td>197.000000</td>\n",
              "      <td>122.000000</td>\n",
              "      <td>63.000000</td>\n",
              "      <td>846.000000</td>\n",
              "      <td>67.100000</td>\n",
              "      <td>2.420000</td>\n",
              "      <td>81.000000</td>\n",
              "      <td>1.000000</td>\n",
              "    </tr>\n",
              "  </tbody>\n",
              "</table>\n",
              "</div>\n",
              "    <div class=\"colab-df-buttons\">\n",
              "\n",
              "  <div class=\"colab-df-container\">\n",
              "    <button class=\"colab-df-convert\" onclick=\"convertToInteractive('df-3dd8859c-9739-4ad2-967d-4df5c4e5ee64')\"\n",
              "            title=\"Convert this dataframe to an interactive table.\"\n",
              "            style=\"display:none;\">\n",
              "\n",
              "  <svg xmlns=\"http://www.w3.org/2000/svg\" height=\"24px\" viewBox=\"0 -960 960 960\">\n",
              "    <path d=\"M120-120v-720h720v720H120Zm60-500h600v-160H180v160Zm220 220h160v-160H400v160Zm0 220h160v-160H400v160ZM180-400h160v-160H180v160Zm440 0h160v-160H620v160ZM180-180h160v-160H180v160Zm440 0h160v-160H620v160Z\"/>\n",
              "  </svg>\n",
              "    </button>\n",
              "\n",
              "  <style>\n",
              "    .colab-df-container {\n",
              "      display:flex;\n",
              "      gap: 12px;\n",
              "    }\n",
              "\n",
              "    .colab-df-convert {\n",
              "      background-color: #E8F0FE;\n",
              "      border: none;\n",
              "      border-radius: 50%;\n",
              "      cursor: pointer;\n",
              "      display: none;\n",
              "      fill: #1967D2;\n",
              "      height: 32px;\n",
              "      padding: 0 0 0 0;\n",
              "      width: 32px;\n",
              "    }\n",
              "\n",
              "    .colab-df-convert:hover {\n",
              "      background-color: #E2EBFA;\n",
              "      box-shadow: 0px 1px 2px rgba(60, 64, 67, 0.3), 0px 1px 3px 1px rgba(60, 64, 67, 0.15);\n",
              "      fill: #174EA6;\n",
              "    }\n",
              "\n",
              "    .colab-df-buttons div {\n",
              "      margin-bottom: 4px;\n",
              "    }\n",
              "\n",
              "    [theme=dark] .colab-df-convert {\n",
              "      background-color: #3B4455;\n",
              "      fill: #D2E3FC;\n",
              "    }\n",
              "\n",
              "    [theme=dark] .colab-df-convert:hover {\n",
              "      background-color: #434B5C;\n",
              "      box-shadow: 0px 1px 3px 1px rgba(0, 0, 0, 0.15);\n",
              "      filter: drop-shadow(0px 1px 2px rgba(0, 0, 0, 0.3));\n",
              "      fill: #FFFFFF;\n",
              "    }\n",
              "  </style>\n",
              "\n",
              "    <script>\n",
              "      const buttonEl =\n",
              "        document.querySelector('#df-3dd8859c-9739-4ad2-967d-4df5c4e5ee64 button.colab-df-convert');\n",
              "      buttonEl.style.display =\n",
              "        google.colab.kernel.accessAllowed ? 'block' : 'none';\n",
              "\n",
              "      async function convertToInteractive(key) {\n",
              "        const element = document.querySelector('#df-3dd8859c-9739-4ad2-967d-4df5c4e5ee64');\n",
              "        const dataTable =\n",
              "          await google.colab.kernel.invokeFunction('convertToInteractive',\n",
              "                                                    [key], {});\n",
              "        if (!dataTable) return;\n",
              "\n",
              "        const docLinkHtml = 'Like what you see? Visit the ' +\n",
              "          '<a target=\"_blank\" href=https://colab.research.google.com/notebooks/data_table.ipynb>data table notebook</a>'\n",
              "          + ' to learn more about interactive tables.';\n",
              "        element.innerHTML = '';\n",
              "        dataTable['output_type'] = 'display_data';\n",
              "        await google.colab.output.renderOutput(dataTable, element);\n",
              "        const docLink = document.createElement('div');\n",
              "        docLink.innerHTML = docLinkHtml;\n",
              "        element.appendChild(docLink);\n",
              "      }\n",
              "    </script>\n",
              "  </div>\n",
              "\n",
              "\n",
              "<div id=\"df-0220af02-18d5-4d71-86e5-f29b29c17402\">\n",
              "  <button class=\"colab-df-quickchart\" onclick=\"quickchart('df-0220af02-18d5-4d71-86e5-f29b29c17402')\"\n",
              "            title=\"Suggest charts\"\n",
              "            style=\"display:none;\">\n",
              "\n",
              "<svg xmlns=\"http://www.w3.org/2000/svg\" height=\"24px\"viewBox=\"0 0 24 24\"\n",
              "     width=\"24px\">\n",
              "    <g>\n",
              "        <path d=\"M19 3H5c-1.1 0-2 .9-2 2v14c0 1.1.9 2 2 2h14c1.1 0 2-.9 2-2V5c0-1.1-.9-2-2-2zM9 17H7v-7h2v7zm4 0h-2V7h2v10zm4 0h-2v-4h2v4z\"/>\n",
              "    </g>\n",
              "</svg>\n",
              "  </button>\n",
              "\n",
              "<style>\n",
              "  .colab-df-quickchart {\n",
              "      --bg-color: #E8F0FE;\n",
              "      --fill-color: #1967D2;\n",
              "      --hover-bg-color: #E2EBFA;\n",
              "      --hover-fill-color: #174EA6;\n",
              "      --disabled-fill-color: #AAA;\n",
              "      --disabled-bg-color: #DDD;\n",
              "  }\n",
              "\n",
              "  [theme=dark] .colab-df-quickchart {\n",
              "      --bg-color: #3B4455;\n",
              "      --fill-color: #D2E3FC;\n",
              "      --hover-bg-color: #434B5C;\n",
              "      --hover-fill-color: #FFFFFF;\n",
              "      --disabled-bg-color: #3B4455;\n",
              "      --disabled-fill-color: #666;\n",
              "  }\n",
              "\n",
              "  .colab-df-quickchart {\n",
              "    background-color: var(--bg-color);\n",
              "    border: none;\n",
              "    border-radius: 50%;\n",
              "    cursor: pointer;\n",
              "    display: none;\n",
              "    fill: var(--fill-color);\n",
              "    height: 32px;\n",
              "    padding: 0;\n",
              "    width: 32px;\n",
              "  }\n",
              "\n",
              "  .colab-df-quickchart:hover {\n",
              "    background-color: var(--hover-bg-color);\n",
              "    box-shadow: 0 1px 2px rgba(60, 64, 67, 0.3), 0 1px 3px 1px rgba(60, 64, 67, 0.15);\n",
              "    fill: var(--button-hover-fill-color);\n",
              "  }\n",
              "\n",
              "  .colab-df-quickchart-complete:disabled,\n",
              "  .colab-df-quickchart-complete:disabled:hover {\n",
              "    background-color: var(--disabled-bg-color);\n",
              "    fill: var(--disabled-fill-color);\n",
              "    box-shadow: none;\n",
              "  }\n",
              "\n",
              "  .colab-df-spinner {\n",
              "    border: 2px solid var(--fill-color);\n",
              "    border-color: transparent;\n",
              "    border-bottom-color: var(--fill-color);\n",
              "    animation:\n",
              "      spin 1s steps(1) infinite;\n",
              "  }\n",
              "\n",
              "  @keyframes spin {\n",
              "    0% {\n",
              "      border-color: transparent;\n",
              "      border-bottom-color: var(--fill-color);\n",
              "      border-left-color: var(--fill-color);\n",
              "    }\n",
              "    20% {\n",
              "      border-color: transparent;\n",
              "      border-left-color: var(--fill-color);\n",
              "      border-top-color: var(--fill-color);\n",
              "    }\n",
              "    30% {\n",
              "      border-color: transparent;\n",
              "      border-left-color: var(--fill-color);\n",
              "      border-top-color: var(--fill-color);\n",
              "      border-right-color: var(--fill-color);\n",
              "    }\n",
              "    40% {\n",
              "      border-color: transparent;\n",
              "      border-right-color: var(--fill-color);\n",
              "      border-top-color: var(--fill-color);\n",
              "    }\n",
              "    60% {\n",
              "      border-color: transparent;\n",
              "      border-right-color: var(--fill-color);\n",
              "    }\n",
              "    80% {\n",
              "      border-color: transparent;\n",
              "      border-right-color: var(--fill-color);\n",
              "      border-bottom-color: var(--fill-color);\n",
              "    }\n",
              "    90% {\n",
              "      border-color: transparent;\n",
              "      border-bottom-color: var(--fill-color);\n",
              "    }\n",
              "  }\n",
              "</style>\n",
              "\n",
              "  <script>\n",
              "    async function quickchart(key) {\n",
              "      const quickchartButtonEl =\n",
              "        document.querySelector('#' + key + ' button');\n",
              "      quickchartButtonEl.disabled = true;  // To prevent multiple clicks.\n",
              "      quickchartButtonEl.classList.add('colab-df-spinner');\n",
              "      try {\n",
              "        const charts = await google.colab.kernel.invokeFunction(\n",
              "            'suggestCharts', [key], {});\n",
              "      } catch (error) {\n",
              "        console.error('Error during call to suggestCharts:', error);\n",
              "      }\n",
              "      quickchartButtonEl.classList.remove('colab-df-spinner');\n",
              "      quickchartButtonEl.classList.add('colab-df-quickchart-complete');\n",
              "    }\n",
              "    (() => {\n",
              "      let quickchartButtonEl =\n",
              "        document.querySelector('#df-0220af02-18d5-4d71-86e5-f29b29c17402 button');\n",
              "      quickchartButtonEl.style.display =\n",
              "        google.colab.kernel.accessAllowed ? 'block' : 'none';\n",
              "    })();\n",
              "  </script>\n",
              "</div>\n",
              "\n",
              "    </div>\n",
              "  </div>\n"
            ],
            "application/vnd.google.colaboratory.intrinsic+json": {
              "type": "dataframe",
              "summary": "{\n  \"name\": \"data\",\n  \"rows\": 8,\n  \"fields\": [\n    {\n      \"column\": \"Pregnancies\",\n      \"properties\": {\n        \"dtype\": \"number\",\n        \"std\": 868.0343062942068,\n        \"min\": 0.0,\n        \"max\": 2460.0,\n        \"num_unique_values\": 8,\n        \"samples\": [\n          3.817479674796748,\n          3.0,\n          2460.0\n        ],\n        \"semantic_type\": \"\",\n        \"description\": \"\"\n      }\n    },\n    {\n      \"column\": \"Glucose\",\n      \"properties\": {\n        \"dtype\": \"number\",\n        \"std\": 836.1843148036434,\n        \"min\": 0.0,\n        \"max\": 2460.0,\n        \"num_unique_values\": 8,\n        \"samples\": [\n          121.60203252032521,\n          117.0,\n          2460.0\n        ],\n        \"semantic_type\": \"\",\n        \"description\": \"\"\n      }\n    },\n    {\n      \"column\": \"BloodPressure\",\n      \"properties\": {\n        \"dtype\": \"number\",\n        \"std\": 849.1435258135994,\n        \"min\": 0.0,\n        \"max\": 2460.0,\n        \"num_unique_values\": 8,\n        \"samples\": [\n          68.91504065040651,\n          70.0,\n          2460.0\n        ],\n        \"semantic_type\": \"\",\n        \"description\": \"\"\n      }\n    },\n    {\n      \"column\": \"SkinThickness\",\n      \"properties\": {\n        \"dtype\": \"number\",\n        \"std\": 862.1331651031704,\n        \"min\": 0.0,\n        \"max\": 2460.0,\n        \"num_unique_values\": 7,\n        \"samples\": [\n          2460.0,\n          20.53130081300813,\n          33.0\n        ],\n        \"semantic_type\": \"\",\n        \"description\": \"\"\n      }\n    },\n    {\n      \"column\": \"Insulin\",\n      \"properties\": {\n        \"dtype\": \"number\",\n        \"std\": 855.539365645142,\n        \"min\": 0.0,\n        \"max\": 2460.0,\n        \"num_unique_values\": 7,\n        \"samples\": [\n          2460.0,\n          80.119918699187,\n          129.0\n        ],\n        \"semantic_type\": \"\",\n        \"description\": \"\"\n      }\n    },\n    {\n      \"column\": \"BMI\",\n      \"properties\": {\n        \"dtype\": \"number\",\n        \"std\": 859.7431969487591,\n        \"min\": 0.0,\n        \"max\": 2460.0,\n        \"num_unique_values\": 8,\n        \"samples\": [\n          31.990447154471546,\n          32.1,\n          2460.0\n        ],\n        \"semantic_type\": \"\",\n        \"description\": \"\"\n      }\n    },\n    {\n      \"column\": \"DiabetesPedigreeFunction\",\n      \"properties\": {\n        \"dtype\": \"number\",\n        \"std\": 869.5076455676847,\n        \"min\": 0.078,\n        \"max\": 2460.0,\n        \"num_unique_values\": 8,\n        \"samples\": [\n          0.491439837398374,\n          0.381,\n          2460.0\n        ],\n        \"semantic_type\": \"\",\n        \"description\": \"\"\n      }\n    },\n    {\n      \"column\": \"Age\",\n      \"properties\": {\n        \"dtype\": \"number\",\n        \"std\": 857.9705309410602,\n        \"min\": 11.251207781792305,\n        \"max\": 2460.0,\n        \"num_unique_values\": 8,\n        \"samples\": [\n          32.821951219512194,\n          29.0,\n          2460.0\n        ],\n        \"semantic_type\": \"\",\n        \"description\": \"\"\n      }\n    },\n    {\n      \"column\": \"Outcome\",\n      \"properties\": {\n        \"dtype\": \"number\",\n        \"std\": 869.5960715740799,\n        \"min\": 0.0,\n        \"max\": 2460.0,\n        \"num_unique_values\": 5,\n        \"samples\": [\n          0.3902439024390244,\n          1.0,\n          0.4879040556198041\n        ],\n        \"semantic_type\": \"\",\n        \"description\": \"\"\n      }\n    }\n  ]\n}"
            }
          },
          "metadata": {},
          "execution_count": 91
        }
      ]
    },
    {
      "cell_type": "code",
      "source": [
        "data.hist(figsize=(12, 10), bins=28, color='coral')\n",
        "plt.tight_layout()  # -> Untuk menyesuaikan layout agar data tidak tumpang tindih\n",
        "plt.show()"
      ],
      "metadata": {
        "id": "8CaMArTNRm0X",
        "colab": {
          "base_uri": "https://localhost:8080/",
          "height": 1000
        },
        "outputId": "416f5297-a8b8-42ca-a205-89aa0c97ccfb"
      },
      "execution_count": null,
      "outputs": [
        {
          "output_type": "display_data",
          "data": {
            "text/plain": [
              "<Figure size 1200x1000 with 9 Axes>"
            ],
            "image/png": "[encoded data removed]"
          },
          "metadata": {}
        }
      ]
    },
    {
      "cell_type": "code",
      "source": [
        "# Mengecek data yang outlier\n",
        "def outlier(data):\n",
        "    columns = data.select_dtypes(include=['int', 'float']).columns\n",
        "    outlier_counts = {}\n",
        "    for x in columns:\n",
        "        Q1 = data[x].quantile(0.25)\n",
        "        Q3 = data[x].quantile(0.75)\n",
        "        IQR = Q3-Q1\n",
        "        lower_bound = Q1 -1.5*IQR\n",
        "        upper_bound = Q3+1.5*IQR\n",
        "        outliers = data[(data[x] < lower_bound) | (data[x] > upper_bound)]\n",
        "        outlier_counts[x] = len(outliers)\n",
        "\n",
        "    return outlier_counts\n",
        "\n",
        "outlier_counts = outlier(data)\n",
        "print(f'Data yang Outlier : {outlier_counts}')"
      ],
      "metadata": {
        "colab": {
          "base_uri": "https://localhost:8080/"
        },
        "id": "nMIK3yfuf3_7",
        "outputId": "41dd1175-6014-4179-fba0-6a01b7b391f7"
      },
      "execution_count": null,
      "outputs": [
        {
          "output_type": "stream",
          "name": "stdout",
          "text": [
            "Data yang Outlier : {'Pregnancies': 21, 'Glucose': 17, 'BloodPressure': 140, 'SkinThickness': 0, 'Insulin': 97, 'BMI': 56, 'DiabetesPedigreeFunction': 103, 'Age': 63, 'Outcome': 0}\n"
          ]
        }
      ]
    },
    {
      "cell_type": "code",
      "source": [
        "# Membersihkan data yang outlier\n",
        "def remove_outlier(data):\n",
        "    columns = data.select_dtypes(include=['int', 'float']).columns\n",
        "    cleaned_data = data.copy()  # Membuat salinan DataFrame untuk menghindari perubahan pada data asli\n",
        "    for column in columns:\n",
        "        Q1 = data[column].quantile(0.25)\n",
        "        Q3 = data[column].quantile(0.75)\n",
        "        IQR = Q3 - Q1\n",
        "        lower_bound = Q1 - 1.5 * IQR\n",
        "        upper_bound = Q3 + 1.5 * IQR\n",
        "        cleaned_data = cleaned_data[(cleaned_data[column] >= lower_bound) &\n",
        "         (cleaned_data[column] <= upper_bound)]\n",
        "    return cleaned_data\n",
        "\n",
        "data_cleaned = remove_outlier(data)"
      ],
      "metadata": {
        "id": "PqGE6tx_ggMX"
      },
      "execution_count": null,
      "outputs": []
    },
    {
      "cell_type": "code",
      "source": [
        "data_cleaned.info()"
      ],
      "metadata": {
        "colab": {
          "base_uri": "https://localhost:8080/"
        },
        "id": "ITj9JPjHgtK6",
        "outputId": "05e69bd7-81e5-4b23-fccb-038e4f310c6a"
      },
      "execution_count": null,
      "outputs": [
        {
          "output_type": "stream",
          "name": "stdout",
          "text": [
            "<class 'pandas.core.frame.DataFrame'>\n",
            "Index: 2027 entries, 0 to 2459\n",
            "Data columns (total 9 columns):\n",
            " #   Column                    Non-Null Count  Dtype  \n",
            "---  ------                    --------------  -----  \n",
            " 0   Pregnancies               2027 non-null   int64  \n",
            " 1   Glucose                   2027 non-null   int64  \n",
            " 2   BloodPressure             2027 non-null   int64  \n",
            " 3   SkinThickness             2027 non-null   int64  \n",
            " 4   Insulin                   2027 non-null   int64  \n",
            " 5   BMI                       2027 non-null   float64\n",
            " 6   DiabetesPedigreeFunction  2027 non-null   float64\n",
            " 7   Age                       2027 non-null   int64  \n",
            " 8   Outcome                   2027 non-null   int64  \n",
            "dtypes: float64(2), int64(7)\n",
            "memory usage: 158.4 KB\n"
          ]
        }
      ]
    },
    {
      "cell_type": "markdown",
      "source": [
        "#### 2. Hasil dari EDA dan pre-processing dapat diinterpretasikan\n",
        "\n",
        "Ada sebuah data yang dimana kita ingin melakukan pre-processing sebelum melakukan analisisnya. Dari data diatas kita melakukan pre-processing dan mengetahui bahwa jumlah kolom dataset tersebut sebanyak 2460, dan kolomnya sebanyak 9. Lalu kita kita ingin mengecek masalah pada data tersebut dengan menngunakan 'data.info()' dan menghasilkan output bahwa tidak ada data yang bernilai null. Selanjutnya untuk missing valuenya tidak ada. Setelah mengecek missing value kita memperoleh hasil visualisasi data tersebut, serta mengecek data yang outlier.\n",
        "\n",
        "Tujuan : untuk mengetahui jumlah orang yang terkena diabetes, mulai dari usianya, ibu hamil yang terdampak, insulinnya berapa, glukosanya berapa, dan lain sebagainya.\n",
        "\n",
        "Kondisi data : untuk kondisi data tidak ada yang mempunyai missning value (0), tetapi ada beberapa data yang mengalami outlier. Seperti\n",
        "- data pregnancies = 21\n",
        "- data glucose = 17\n",
        "- data bloodpressure = 140\n",
        "- data insulin = 97\n",
        "- data BMI = 55\n",
        "- data diabetespredigree function = 103\n",
        "- data usia = 63\n",
        "Data - data tersebut yang memiliki data outlier dan sudah di cleaning.\n",
        "\n",
        "Interpretasi EDA:\n",
        "1. Data \"pregnancies\" -> data tertinggi kasus diabetes untuk ibu hamil sebanyak > 400 kasus yang berada di frekuensi 0.0, dan data terendah sebanyak > 0.10 kasus yang berada di frekuensi 17.5. Semakin tinggi yang terkena diabetes maka semakin sedikit pula frekuensinya.\n",
        "2. Data \"glucose\" -> data tertinggi kasus diabetes untuk kadar glukosa sebanyak > 300 yang berada di frekuensi 100, dan data terendah < 0.15 yang berada di frekuensi 15.\n",
        "3. Data \"bloodpressure\" data tertinggi kasus diabetes untuk tekanan darahnya sebanyak > 500 yang berada di frekuensi < 85 dan data terendah < 0.5 yang berada di frekuensi < 35.\n",
        "4. Data \"insulin\" -> data tertinggi kasus diabetes untuk kadar insulin bagi penderita sebesar > 1200 yang berada di frekuensi < 0.3 dan data terendah sebesar < 0.3 yang berada di frekuensi > 400.\n",
        "5. Data \"BMI\" -> data tertinggi kasus diabetes untuk Indeks massa tubuh bagi penderita sebesar < 350 yang berada di frekuensi > 35 dan data terendah sebesar < 0.3 yang berada di frekuensi 120.\n",
        "6. Data \"Diabetespredigree function\" -> data tertinggi kasus diabetes bagi penderita sebesar > 400 yang berada di frekuensi > 0.3 dan data terendah sebesar < 0.3 yang berada di frekuensi > 2.0.\n",
        "7. Data \"Age\" -> data tertinggi kasus diabetes untuk usia bagi penderita sebesar > 500 yang berada di frekuensi > 20 dan data terendah sebesar < 0.1 yang berada di frekuensi 70.\n",
        "\n"
      ],
      "metadata": {
        "id": "xOeRrghZg37D"
      }
    },
    {
      "cell_type": "markdown",
      "source": [
        "#### 3. Lakukan pemodelan menggunakan algoritma klasifikasi KNN, Decision Tree dan Naive Bayes"
      ],
      "metadata": {
        "id": "QMogcKYYbu8B"
      }
    },
    {
      "cell_type": "code",
      "source": [
        "# Permodelan K-Nearest Neighbors (KNN)\n",
        "from sklearn.model_selection import train_test_split\n",
        "from sklearn.neighbors import KNeighborsClassifier\n",
        "from sklearn.metrics import accuracy_score\n",
        "\n",
        "# Menentukan data latih dan data uji\n",
        "X_train, X_test, y_train, y_test = train_test_split(x, y, test_size=0.2, random_state=42)\n",
        "\n",
        "# Membuat Model KNN\n",
        "knn = KNeighborsClassifier(n_neighbors=3)\n",
        "knn.fit(X_train, y_train)\n",
        "\n",
        "# Mengevaluasi model\n",
        "y_pred = knn.predict(X_test)\n",
        "accuracy = accuracy_score(y_test, y_pred)\n",
        "\n",
        "print(\"Akurasi model KNN: {:.2f}%\".format(accuracy * 100))"
      ],
      "metadata": {
        "colab": {
          "base_uri": "https://localhost:8080/"
        },
        "id": "C3m2IuvpfbVJ",
        "outputId": "98433006-4d5d-44cc-ea31-42e2c8304ddd"
      },
      "execution_count": null,
      "outputs": [
        {
          "output_type": "stream",
          "name": "stdout",
          "text": [
            "Akurasi model KNN: 98.52%\n"
          ]
        }
      ]
    },
    {
      "cell_type": "code",
      "source": [
        "# Permodelan Decision Tree\n",
        "from sklearn.model_selection import train_test_split\n",
        "from sklearn.tree import DecisionTreeClassifier\n",
        "from sklearn.metrics import accuracy_score\n",
        "\n",
        "# Persiapan data\n",
        "X_train, X_test, y_train, y_test = train_test_split(x, y, test_size=0.2, random_state=42)\n",
        "\n",
        "# Pembuatan model\n",
        "dtree = DecisionTreeClassifier()\n",
        "dtree.fit(X_train, y_train)\n",
        "\n",
        "# Evaluasi model\n",
        "y_pred = dtree.predict(X_test)\n",
        "accuracy = accuracy_score(y_test, y_pred)\n",
        "\n",
        "print(\"Akurasi model Decision Tree: {:.2f}%\".format(accuracy * 100))"
      ],
      "metadata": {
        "colab": {
          "base_uri": "https://localhost:8080/"
        },
        "id": "7vTKu5e_hgrP",
        "outputId": "91a9604d-df70-46b4-f5f3-50f32be9178c"
      },
      "execution_count": null,
      "outputs": [
        {
          "output_type": "stream",
          "name": "stdout",
          "text": [
            "Akurasi model Decision Tree: 99.26%\n"
          ]
        }
      ]
    },
    {
      "cell_type": "code",
      "source": [
        "# Permodelan Naive Bayes\n",
        "from sklearn.model_selection import train_test_split\n",
        "from sklearn.naive_bayes import GaussianNB\n",
        "from sklearn.metrics import accuracy_score\n",
        "\n",
        "# Persiapan data\n",
        "X_train, X_test, y_train, y_test = train_test_split(x, y, test_size=0.2, random_state=42)\n",
        "\n",
        "# Pembuatan model\n",
        "nb = GaussianNB()\n",
        "nb.fit(X_train, y_train)\n",
        "\n",
        "# Evaluasi model\n",
        "y_pred = nb.predict(X_test)\n",
        "accuracy = accuracy_score(y_test, y_pred)\n",
        "\n",
        "print(\"Akurasi model Naive Bayes: {:.2f}%\".format(accuracy * 100))"
      ],
      "metadata": {
        "colab": {
          "base_uri": "https://localhost:8080/"
        },
        "id": "acY7GOSziBZ7",
        "outputId": "4aecf351-dfd3-45f4-ff91-a30362a3e85b"
      },
      "execution_count": null,
      "outputs": [
        {
          "output_type": "stream",
          "name": "stdout",
          "text": [
            "Akurasi model Naive Bayes: 69.95%\n"
          ]
        }
      ]
    },
    {
      "cell_type": "markdown",
      "source": [
        "#### 4. Gunakan matriks evaluasi accuracy score, recall dan precision. Buatlah kesimpulan algoritma mana yang paling baik."
      ],
      "metadata": {
        "id": "N6GVYaJPihrf"
      }
    },
    {
      "cell_type": "code",
      "source": [
        "from sklearn.model_selection import train_test_split\n",
        "x_train, x_test, y_train, y_test = train_test_split(x, y, test_size=0.2, random_state=42)"
      ],
      "metadata": {
        "id": "wrgZTnY-kZ3e"
      },
      "execution_count": null,
      "outputs": []
    },
    {
      "cell_type": "code",
      "source": [
        "# Menghitung data latih dan data uji\n",
        "(x_train.shape[0]/len(x))*100, (x_test.shape[0]/len(x))*100"
      ],
      "metadata": {
        "colab": {
          "base_uri": "https://localhost:8080/"
        },
        "id": "2XVGfY1fkfVW",
        "outputId": "f1735aad-c595-4408-c5ba-75900e6de06b"
      },
      "execution_count": null,
      "outputs": [
        {
          "output_type": "execute_result",
          "data": {
            "text/plain": [
              "(79.97039960532807, 20.029600394671927)"
            ]
          },
          "metadata": {},
          "execution_count": 109
        }
      ]
    },
    {
      "cell_type": "code",
      "source": [
        "# Permodelan K-Nearest Neighbors menggunakan matriks evaluasi accuracy score, recall dan precision.\n",
        "from sklearn.neighbors import KNeighborsClassifier\n",
        "knn = KNeighborsClassifier(n_neighbors=3)\n",
        "knn.fit(x_train, y_train)\n",
        "y_pred_knn = knn.predict(x_test)\n",
        "\n",
        "from sklearn.metrics import confusion_matrix, accuracy_score, recall_score, precision_score\n",
        "print(confusion_matrix(y_test, y_pred_knn))\n",
        "print(accuracy_score(y_test, y_pred_knn))\n",
        "print(recall_score(y_test, y_pred_knn))\n",
        "print(precision_score(y_test, y_pred_knn))\n",
        "\n",
        "cm = confusion_matrix(y_test, y_pred_knn)\n",
        "sns.heatmap(cm, annot=True, fmt='d')"
      ],
      "metadata": {
        "id": "TqyE5EVtignX",
        "colab": {
          "base_uri": "https://localhost:8080/",
          "height": 534
        },
        "outputId": "d389a94e-9abe-46c8-8f91-70a49b5f175b"
      },
      "execution_count": null,
      "outputs": [
        {
          "output_type": "stream",
          "name": "stdout",
          "text": [
            "[[259   3]\n",
            " [  3 141]]\n",
            "0.9852216748768473\n",
            "0.9791666666666666\n",
            "0.9791666666666666\n"
          ]
        },
        {
          "output_type": "execute_result",
          "data": {
            "text/plain": [
              "<Axes: >"
            ]
          },
          "metadata": {},
          "execution_count": 111
        },
        {
          "output_type": "display_data",
          "data": {
            "text/plain": [
              "<Figure size 640x480 with 2 Axes>"
            ],
            "image/png": "[encoded data removed]"
          },
          "metadata": {}
        }
      ]
    },
    {
      "cell_type": "code",
      "source": [
        "# Permodelan Decision Tree menggunakan matriks evaluasi accuracy score, recall dan precision.\n",
        "from sklearn.tree import DecisionTreeClassifier\n",
        "dt = DecisionTreeClassifier()\n",
        "dt.fit(x_train, y_train)\n",
        "y_pred_dt = dt.predict(x_test)\n",
        "\n",
        "from sklearn.metrics import confusion_matrix, accuracy_score, recall_score, precision_score\n",
        "print(confusion_matrix(y_test, y_pred_dt))\n",
        "print(accuracy_score(y_test, y_pred_dt))\n",
        "print(recall_score(y_test, y_pred_dt))\n",
        "print(precision_score(y_test, y_pred_dt))\n",
        "\n",
        "cm = confusion_matrix(y_test, y_pred_dt)\n",
        "sns.heatmap(cm, annot=True, fmt='d')"
      ],
      "metadata": {
        "id": "LbpPs_RwkpOo",
        "colab": {
          "base_uri": "https://localhost:8080/",
          "height": 534
        },
        "outputId": "27b3123e-626a-4785-8dbe-17afb4cc6061"
      },
      "execution_count": null,
      "outputs": [
        {
          "output_type": "stream",
          "name": "stdout",
          "text": [
            "[[260   2]\n",
            " [  1 143]]\n",
            "0.9926108374384236\n",
            "0.9930555555555556\n",
            "0.9862068965517241\n"
          ]
        },
        {
          "output_type": "execute_result",
          "data": {
            "text/plain": [
              "<Axes: >"
            ]
          },
          "metadata": {},
          "execution_count": 107
        },
        {
          "output_type": "display_data",
          "data": {
            "text/plain": [
              "<Figure size 640x480 with 2 Axes>"
            ],
            "image/png": "[encoded data removed]"
          },
          "metadata": {}
        }
      ]
    },
    {
      "cell_type": "code",
      "source": [
        "# Permodelan Naive Bayes menggunakan matriks evaluasi accuracy score, recall dan precision.\n",
        "from sklearn.naive_bayes import GaussianNB\n",
        "nb = GaussianNB()\n",
        "nb.fit(x_train, y_train)\n",
        "y_pred_nb = nb.predict(x_test)\n",
        "\n",
        "from sklearn.metrics import confusion_matrix, accuracy_score, recall_score, precision_score\n",
        "print(confusion_matrix(y_test, y_pred_nb))\n",
        "print(accuracy_score(y_test, y_pred_nb))\n",
        "print(recall_score(y_test, y_pred_nb))\n",
        "print(precision_score(y_test, y_pred_nb))\n",
        "\n",
        "cm = confusion_matrix(y_test, y_pred_nb)\n",
        "sns.heatmap(cm, annot=True, fmt='d')"
      ],
      "metadata": {
        "colab": {
          "base_uri": "https://localhost:8080/",
          "height": 537
        },
        "id": "dqwQ_Qvymc5i",
        "outputId": "10513207-2952-4832-c56c-0e13f321c1a3"
      },
      "execution_count": null,
      "outputs": [
        {
          "output_type": "stream",
          "name": "stdout",
          "text": [
            "[[201  61]\n",
            " [ 61  83]]\n",
            "0.6995073891625616\n",
            "0.5763888888888888\n",
            "0.5763888888888888\n"
          ]
        },
        {
          "output_type": "execute_result",
          "data": {
            "text/plain": [
              "<Axes: >"
            ]
          },
          "metadata": {},
          "execution_count": 108
        },
        {
          "output_type": "display_data",
          "data": {
            "text/plain": [
              "<Figure size 640x480 with 2 Axes>"
            ],
            "image/png": "[encoded data removed]"
          },
          "metadata": {}
        }
      ]
    },
    {
      "cell_type": "markdown",
      "source": [
        "Dari hasil kesimpulan diatas menunjukkan bahwa algoritma yang baik adalah decision tree. Karena memiliki nilai akurasi serta nilai matriks evaluasi yang sesuai dan tinggi dengan rata - rata nilai sebesar 99.26%, sedangkan untuk algoritma knn sebesar 98.52%, dan algoritma naive bayes sebesar 69.95%. Algoritma permodelan Decision Tree juga memiliki nilai prediksi yang lebih seimbang dibandingkan dengan KNN dan Naive Bayes yang memiliki nilai prediksi yang bias."
      ],
      "metadata": {
        "id": "UmvYBD9Ho3EU"
      }
    }
  ]
}